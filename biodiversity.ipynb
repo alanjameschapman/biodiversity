{
 "cells": [
  {
   "cell_type": "markdown",
   "metadata": {},
   "source": [
    "# Project Scoping\n",
    "\n",
    "## 1. Project Goals\n",
    "\n",
    "Some initial questions to answer that could be explored:\n",
    "\n",
    "- What is the overall biodiversity across the parks?\n",
    "- Are certain species more concentrated in specific parks?\n",
    "- Are certain categories more endangered than others?\n",
    "- Which parks have the most endangered species?\n",
    "- Which species are most under threat?\n",
    "\n",
    "## 2. Understanding the Dataset\n",
    "\n",
    "There are two csv files: `species_info.csv` and `observations.csv`.\n",
    "- `species_info.csv` columns: Animal category (eg. mammal), scientific name, common name, and conservation status.\n",
    "- `observations.csv` columns: scientific name, park name, and number of observations of that animal over previous 7 days.\n",
    "\n",
    "**Data Types**: all columns are string objects except for the number of observations which are int64.\n",
    "\n",
    "**Size & Quality**:\n",
    "\n",
    "- `species_info.csv`: 5,824 rows x 4 columns. Missing values: 5,633 (97%), all in the conservation status column.\n",
    "- `observations.csv`: 23,296 rows x 3 columns. Missing values: 0\n",
    "\n",
    "## 3. Key Metrics/Analysis Techniques\n",
    "\n",
    "- Biodiversity Indexes to consider: Simpson’s Diversity Index, or Shannon Index to quantify biodiversity.\n",
    "- Trend Analysis: Identify trends between parks.\n",
    "- Visualization: Plan on using visualizations like bar charts, heatmaps, or maps to make the data easier to interpret.\n",
    "\n",
    "## 4. Tools & Methods\n",
    "\n",
    "Python Libraries: pandas, matplotlib, seaborn, for analysis and visualizations. Plotly for interactive map visualizations.\n",
    "\n",
    "## 5. Deliverables\n",
    "\n",
    "- Jupyter Notebook Report: Clear insights into biodiversity trends, backed by data.\n",
    "- Linkedin Article: A summary of the findings and the importance of biodiversity conservation.\n",
    "- Visualizations: Maps showing species distribution, charts for biodiversity indexes, etc.\n",
    "- Conclusion: Summarize key findings."
   ]
  },
  {
   "cell_type": "markdown",
   "metadata": {},
   "source": [
    "---"
   ]
  },
  {
   "cell_type": "markdown",
   "metadata": {},
   "source": [
    "# Boilerplate Structure for the Jupyter Notebook Report:\n",
    "\n",
    "Project Title: Biodiversity in US National Parks\n",
    "Introduction\n",
    "\n",
    "Brief overview of the project.\n",
    "Define the project goals (e.g., understanding biodiversity distribution, identifying trends, etc.).\n",
    "Dataset Overview\n",
    "\n",
    "Description of the dataset (source, size, variables).\n",
    "Initial observations (any patterns or peculiarities?).\n",
    "Data Cleaning & Preprocessing\n",
    "\n",
    "Missing data handling, outliers, data transformation.\n",
    "Tools and libraries used (e.g., pandas, NumPy).\n",
    "Exploratory Data Analysis (EDA)\n",
    "\n",
    "Visualizations of species diversity, park distributions, etc.\n",
    "Any summary statistics or interesting patterns.\n",
    "Species trends over time (if applicable).\n",
    "Key Metrics & Calculations\n",
    "\n",
    "Biodiversity indexes (e.g., Shannon Index, species richness).\n",
    "Breakdown by park, species group, or region.\n",
    "Insights & Findings\n",
    "\n",
    "Highlight major trends or patterns found during analysis.\n",
    "Discuss regional biodiversity differences, species at risk, etc.\n",
    "Conservation Implications\n",
    "\n",
    "Based on your findings, discuss potential conservation actions.\n",
    "Any policy recommendations?\n",
    "Conclusion\n",
    "\n",
    "Summarize key takeaways.\n",
    "Future work (e.g., further data collection, predictive modeling).\n",
    "Appendix\n",
    "\n",
    "Code snippets, additional graphs, or tables."
   ]
  },
  {
   "cell_type": "code",
   "execution_count": 1,
   "metadata": {},
   "outputs": [],
   "source": [
    "import pandas as pd\n",
    "import numpy as np\n",
    "import matplotlib.pyplot as plt\n",
    "import seaborn as sns\n",
    "import plotly.express as px"
   ]
  },
  {
   "cell_type": "code",
   "execution_count": 24,
   "metadata": {},
   "outputs": [
    {
     "name": "stdout",
     "output_type": "stream",
     "text": [
      "Observations:\n",
      "      scientific_name                            park_name  observations\n",
      "8050    Abies bifolia            Yellowstone National Park           215\n",
      "4968    Abies bifolia                  Bryce National Park           109\n",
      "17990   Abies bifolia  Great Smoky Mountains National Park            72\n",
      "20930   Abies bifolia               Yosemite National Park           136\n",
      "4647   Abies concolor  Great Smoky Mountains National Park           101\n",
      "15193  Abies concolor            Yellowstone National Park           241\n",
      "23166  Abies concolor               Yosemite National Park           205\n",
      "8170   Abies concolor                  Bryce National Park            83\n",
      "2014    Abies fraseri                  Bryce National Park           109\n",
      "11141   Abies fraseri            Yellowstone National Park           218\n",
      "----------------------------------------------------------------------------------------------------\n",
      "Species Info:\n",
      "               category       scientific_name                                       common_names conservation_status\n",
      "4061     Vascular Plant         Abies bifolia                          Rocky Mountain Alpine Fir                 NaN\n",
      "5443     Vascular Plant        Abies concolor  Balsam Fir, Colorado Fir, Concolor Fir, Silver...                 NaN\n",
      "1928     Vascular Plant         Abies fraseri                                         Fraser Fir  Species of Concern\n",
      "2908  Nonvascular Plant  Abietinella abietina                                   Abietinella Moss                 NaN\n",
      "3736     Vascular Plant     Abronia ammophila     Wyoming Sand Verbena, Yellowstone Sand Verbena  Species of Concern\n",
      "1866     Vascular Plant  Abutilon theophrasti                                         Velvetleaf                 NaN\n",
      "1768     Vascular Plant    Acalypha gracilens  Narrow-Leaved Three-Seeded Mercury, Slender Co...                 NaN\n",
      "1769     Vascular Plant  Acalypha ostryifolia  Hornbeam Copper-Leaf, Hornbeam-Leaved Three-Se...                 NaN\n",
      "1770     Vascular Plant   Acalypha rhomboidea  Common Threeseed Mercury, Virginia Threeseed M...                 NaN\n",
      "1771     Vascular Plant    Acalypha virginica    Virginia Copperleaf, Virginia Threeseed Mercury                 NaN\n"
     ]
    }
   ],
   "source": [
    "# Load the data for each table\n",
    "df_obs = pd.read_csv('observations.csv')\n",
    "df_species = pd.read_csv('species_info.csv')\n",
    "\n",
    "# Display the first few rows of each table, sorted by 'scientic_name' column\n",
    "df_obs = df_obs.sort_values(by='scientific_name')\n",
    "df_species = df_species.sort_values(by='scientific_name')\n",
    "pd.set_option('display.width', 1000) # Set a large width to prevent wrapping\n",
    "print('Observations:')\n",
    "print(df_obs.head(10))\n",
    "print('-' * 100)\n",
    "print('Species Info:')\n",
    "print(df_species.head(10))"
   ]
  },
  {
   "cell_type": "markdown",
   "metadata": {},
   "source": [
    "To ease data analysis, it would be easier to consolidate the two datasets into one. This will allow for easier analysis and visualization of the data.\n",
    "\n",
    "The common column is the column `scientific_name` in both datasets. It appears as though there might be four rows per species, one for each park, but this is checked as follows:"
   ]
  },
  {
   "cell_type": "code",
   "execution_count": 25,
   "metadata": {},
   "outputs": [
    {
     "name": "stdout",
     "output_type": "stream",
     "text": [
      "Number of species per park:\n",
      "park_name\n",
      "Bryce National Park                    5541\n",
      "Great Smoky Mountains National Park    5541\n",
      "Yellowstone National Park              5541\n",
      "Yosemite National Park                 5541\n",
      "Name: scientific_name, dtype: int64\n"
     ]
    }
   ],
   "source": [
    "# Check the number of species (`scientific_name`) per park\n",
    "species_per_park = df_obs.groupby('park_name')['scientific_name'].nunique()\n",
    "print('Number of species per park:')\n",
    "print(species_per_park)"
   ]
  },
  {
   "cell_type": "markdown",
   "metadata": {},
   "source": [
    "If there are 5541 distinct species, and 4 parks, there should be 5541 * 4 = 22164 rows in the `observations.csv` file.\n",
    "\n",
    "However, there are actually 23,296 rows i.e. an additional 1132 rows. This suggests that there are some species with more than one row for the same park. This is checked as follows:"
   ]
  },
  {
   "cell_type": "code",
   "execution_count": 26,
   "metadata": {},
   "outputs": [
    {
     "name": "stdout",
     "output_type": "stream",
     "text": [
      "Species with more than 4 rows for the same park:\n",
      "[]\n",
      "Species with 12 rows:\n",
      "['Canis lupus', 'Holcus lanatus', 'Puma concolor', 'Myotis lucifugus', 'Castor canadensis', 'Procyon lotor', 'Streptopelia decaocto', 'Hypochaeris radicata', 'Columba livia']\n",
      "Species with 8 rows:\n",
      "['Podiceps nigricollis', 'Carex leptalea', 'Cirsium arvense', 'Malus pumila', 'Brassica rapa', 'Digitaria sanguinalis', 'Digitaria ischaemum', 'Poa palustris', 'Didelphis virginiana', 'Geranium carolinianum', 'Cichorium intybus', 'Typha latifolia', 'Digitalis purpurea', 'Erigeron strigosus', 'Poa trivialis', 'Triticum aestivum', 'Cinna latifolia', 'Poa pratensis', 'Spilogale putorius', 'Malva neglecta', 'Apocynum androsaemifolium', 'Botrychium virginianum', 'Megascops asio', 'Trifolium repens', 'Arabidopsis thaliana', 'Hypericum perforatum', 'Medicago lupulina', 'Poa annua', 'Apocynum cannabinum', 'Scirpus cyperinus', 'Anthemis cotula', 'Poa compressa', 'Martes americana', 'Nepeta cataria', 'Marrubium vulgare', 'Phalaris arundinacea', 'Dipsacus fullonum', 'Anthus rubescens', 'Branta bernicla', 'Tyto alba', 'Bromus japonicus', 'Cirsium scariosum', 'Galium triflorum', 'Polygonum amphibium var. emersum', 'Dianthus barbatus', 'Dianthus armeria', 'Polygonum aviculare', 'Lutra canadensis', 'Verbascum thapsus', 'Juncus dudleyi', 'Oncorhynchus mykiss', 'Polygonum convolvulus', 'Anagallis arvensis', 'Ondatra zibethicus', 'Bulbostylis capillaris', 'Polygonum hydropiperoides', 'Polygonum lapathifolium', 'Erodium cicutarium', 'Polygonum persicaria', 'Ambrosia artemisiifolia', 'Butorides virescens', 'Ranunculus repens', 'Luzula multiflora', 'Cirsium vulgare', 'Lycopus americanus', 'Chen caerulescens', 'Urocyon cinereoargenteus', 'Ursus americanus', 'Bromus secalinus', 'Nycticorax nycticorax', 'Lycopus uniflorus', 'Utricularia intermedia', 'Bromus tectorum', 'Petrochelidon pyrrhonota', 'Juncus brevicaudatus', 'Ochotona princeps', 'Polioptila caerulea', 'Peromyscus maniculatus', 'Secale cereale', 'Lycopodium annotinum', 'Odocoileus virginianus', 'Gavia pacifica', 'Gavia immer', 'Botrychium simplex', 'Trifolium campestre', 'Melanerpes lewis', 'Eleocharis palustris', 'Hieracium caespitosum', 'Mustela vison', 'Epipactis helleborine', 'Sanicula marilandica', 'Eptesicus fuscus', 'Equisetum arvense', 'Sus scrofa', 'Saponaria officinalis', 'Equisetum hyemale var. affine', 'Thlaspi arvense', 'Barbarea vulgaris', 'Rumex crispus', 'Centaurea cyanus', 'Rumex acetosella', 'Sturnus vulgaris', 'Eleocharis acicularis', 'Eragrostis cilianensis', 'Centrocercus urophasianus', 'Mustela erminea', 'Mimus polyglottos', 'Elodea nuttallii', 'Avena sativa', 'Pica hudsonia', 'Empidonax wrightii', 'Heracleum lanatum', 'Hesperis matronalis', 'Epilobium ciliatum ssp. ciliatum', 'Tamias umbrinus', 'Mollugo verticillata', 'Tanacetum vulgare', 'Salvelinus fontinalis', 'Salix exigua', 'Carum carvi', 'Taraxacum laevigatum', 'Taraxacum officinale', 'Helianthus annuus', 'Taxidea taxus', 'Muhlenbergia schreberi', 'Asparagus officinalis', 'Myotis californicus', 'Myotis ciliolabrum', 'Riparia riparia', 'Charina bottae', 'Arctium minus', 'Rosa eglanteria', 'Glyceria striata', 'Erigeron annuus', 'Tragopogon porrifolius', 'Trautvetteria caroliniensis', 'Melilotus officinalis', 'Melilotus albus', 'Rorippa palustris ssp. fernaldiana', 'Rudbeckia hirta var. pulcherrima', 'Glechoma hederacea', 'Rorippa nasturtium-aquaticum', 'Stellaria media', 'Stellaria longifolia', 'Glaucidium gnoma', 'Trifolium aureum', 'Veronica arvensis', 'Trifolium dubium', 'Mentha arvensis', 'Draba verna', 'Phleum pratense', 'Bidens tripartita', 'Strix nebulosa', 'Hordeum pusillum', 'Cerastium fontanum ssp. vulgare', 'Cerastium glomeratum', 'Microtus longicaudus', 'Plantago lanceolata', 'Plantago major', 'Echinochloa crus-galli', 'Dumetella carolinensis', 'Dulichium arundinaceum', 'Cervus elaphus', 'Erethizon dorsatum', 'Gratiola neglecta', 'Bidens cernua', 'Arenaria serpyllifolia', 'Rotala ramosior', 'Drosera rotundifolia', 'Veronica anagallis-aquatica', 'Monotropa hypopithys', 'Amaranthus retroflexus', 'Cannabis sativa', 'Lindernia dubia', 'Agrostis mertensii', 'Lolium perenne', 'Solidago gigantea', 'Linaria vulgaris', 'Festuca rubra', 'Daucus carota', 'Agrostis scabra', 'Agrostis stolonifera', 'Agrostis variabilis', 'Cyperus esculentus', 'Lamium amplexicaule', 'Lactuca serriola', 'Conyza canadensis', 'Viola canadensis', 'Cynoglossum officinale', 'Alectoris chukar', 'Lactuca biennis', 'Sisymbrium officinale', 'Contopus sordidulus', 'Crepis capillaris', 'Cynodon dactylon', 'Callitriche heterophylla', 'Potentilla norvegica', 'Carduus acanthoides', 'Viola arvensis', 'Potentilla recta', 'Pandion haliaetus', 'Orobanche uniflora', 'Corallorrhiza wisteriana', 'Agrostis gigantea', 'Lanius excubitor', 'Lasiurus cinereus', 'Oxalis dillenii', 'Oxalis corniculata', 'Lemna gibba', 'Pastinaca sativa', 'Oxalis violacea', 'Corynorhinus townsendii', 'Potamogeton nodosus', 'Lemna valdiviana', 'Lathyrus latifolius', 'Lepidium campestre', 'Passerella iliaca', 'Potentilla argentea', 'Setaria viridis', 'Potamogeton epihydrus', 'Lindernia dubia var. anagallidea', 'Setaria pumila', 'Lasionycteris noctivagans', 'Potamogeton amplifolius', 'Dactylis glomerata', 'Fragaria vesca', 'Portulaca oleracea', 'Fragaria virginiana', 'Vulpia bromoides', 'Coreopsis lanceolata', 'Vulpia myuros', 'Danthonia spicata', 'Vulpia octoflora', 'Agrostis capillaris', 'Vinca major', 'Vireo solitarius', 'Silene vulgaris', 'Galium aparine', 'Silene antirrhina', 'Parietaria pensylvanica', 'Rana catesbeiana', 'Leucanthemum vulgare', 'Sorex cinereus', 'Zizia aptera', 'Cardamine pensylvanica', 'Sorex hoyi', 'Sorex monticolus', 'Prunella vulgaris', 'Panicum rigidulum var. rigidulum', 'Calamagrostis canadensis', 'Sorex palustris', 'Veronica persica', 'Erysimum cheiranthoides', 'Leucosticte tephrocotis', 'Juncus tenuis', 'Ludwigia palustris', 'Amaranthus albus', 'Silene latifolia ssp. alba', 'Lunaria annua', 'Panicum capillare', 'Panicum miliaceum', 'Soliva sessilis', 'Sonchus asper', 'Conium maculatum', 'Capsella bursa-pastoris']\n"
     ]
    }
   ],
   "source": [
    "# print list of scientific_name which have multiple rows for the same park i.e. more than 4 rows:\n",
    "species_row_count = df_obs.groupby(['scientific_name', 'park_name']).size().reset_index(name='count')\n",
    "species_row_count = species_row_count[species_row_count['count'] > 4]\n",
    "print('Species with more than 4 rows for the same park:')\n",
    "print(species_row_count['scientific_name'].unique())\n",
    "\n",
    "df_obs_duplicates = df_obs.groupby(['scientific_name']).agg(scientific_name_count=('scientific_name', 'count')).reset_index()\n",
    "df_obs_duplicates = df_obs_duplicates.sort_values(['scientific_name_count'], ascending=[False])\n",
    "df_obs_duplicates = df_obs_duplicates[df_obs_duplicates['scientific_name_count'] > 4]\n",
    "\n",
    "# for each value of scientific_name_count, list the scientific_name\n",
    "for scientific_name_count in df_obs_duplicates['scientific_name_count'].unique():\n",
    "    print(f'Species with {scientific_name_count} rows:')\n",
    "    scientific_names = df_obs_duplicates[df_obs_duplicates['scientific_name_count'] == scientific_name_count]['scientific_name'].tolist()\n",
    "    print(scientific_names)"
   ]
  },
  {
   "cell_type": "code",
   "execution_count": 22,
   "metadata": {},
   "outputs": [
    {
     "name": "stdout",
     "output_type": "stream",
     "text": [
      "df_obs_clean_duplicates:\n",
      "<class 'pandas.core.frame.DataFrame'>\n",
      "RangeIndex: 22164 entries, 0 to 22163\n",
      "Data columns (total 3 columns):\n",
      " #   Column           Non-Null Count  Dtype \n",
      "---  ------           --------------  ----- \n",
      " 0   scientific_name  22164 non-null  object\n",
      " 1   park_name        22164 non-null  object\n",
      " 2   observations     22164 non-null  int64 \n",
      "dtypes: int64(1), object(2)\n",
      "memory usage: 519.6+ KB\n",
      "None\n"
     ]
    }
   ],
   "source": [
    "# Add observations values for duplicates where scientific name and park name are the same.\n",
    "df_obs_clean = df_obs.groupby(['scientific_name', 'park_name']).sum().reset_index()\n",
    "df_obs_clean.to_csv('observations_clean.csv', index=False)\n",
    "\n",
    "# Check for duplicates in the cleaned data\n",
    "df_obs_clean_duplicates = df_obs_clean.groupby(['scientific_name']).agg(scientific_name_count=('scientific_name', 'count')).reset_index()\n",
    "df_obs_clean_duplicates = df_obs_clean_duplicates.sort_values(['scientific_name_count'], ascending=[False])\n",
    "df_obs_clean_duplicates = df_obs_clean_duplicates[df_obs_clean_duplicates['scientific_name_count'] > 4]\n",
    "\n",
    "print('df_obs_clean_duplicates:')\n",
    "print(df_obs_clean.info())\n",
    "# print('df_obs_clean_duplicates count:')"
   ]
  },
  {
   "cell_type": "markdown",
   "metadata": {},
   "source": [
    "We have now removed the duplicates and have 22164 rows in the `observations.csv` file. This is the expected number of rows."
   ]
  },
  {
   "cell_type": "code",
   "execution_count": 15,
   "metadata": {},
   "outputs": [
    {
     "name": "stdout",
     "output_type": "stream",
     "text": [
      "            scientific_name                            park_name  observations           category                                       common_names conservation_status\n",
      "5468          Abies bifolia                  Bryce National Park           109     Vascular Plant                          Rocky Mountain Alpine Fir                 NaN\n",
      "19789         Abies bifolia  Great Smoky Mountains National Park            72     Vascular Plant                          Rocky Mountain Alpine Fir                 NaN\n",
      "8854          Abies bifolia            Yellowstone National Park           215     Vascular Plant                          Rocky Mountain Alpine Fir                 NaN\n",
      "23041         Abies bifolia               Yosemite National Park           136     Vascular Plant                          Rocky Mountain Alpine Fir                 NaN\n",
      "8989         Abies concolor                  Bryce National Park            83     Vascular Plant  Balsam Fir, Colorado Fir, Concolor Fir, Silver...                 NaN\n",
      "5113         Abies concolor  Great Smoky Mountains National Park           101     Vascular Plant  Balsam Fir, Colorado Fir, Concolor Fir, Silver...                 NaN\n",
      "16747        Abies concolor            Yellowstone National Park           241     Vascular Plant  Balsam Fir, Colorado Fir, Concolor Fir, Silver...                 NaN\n",
      "25491        Abies concolor               Yosemite National Park           205     Vascular Plant  Balsam Fir, Colorado Fir, Concolor Fir, Silver...                 NaN\n",
      "2231          Abies fraseri                  Bryce National Park           109     Vascular Plant                                         Fraser Fir  Species of Concern\n",
      "5627          Abies fraseri  Great Smoky Mountains National Park            81     Vascular Plant                                         Fraser Fir  Species of Concern\n",
      "12292         Abies fraseri            Yellowstone National Park           218     Vascular Plant                                         Fraser Fir  Species of Concern\n",
      "6370          Abies fraseri               Yosemite National Park           110     Vascular Plant                                         Fraser Fir  Species of Concern\n",
      "9570   Abietinella abietina                  Bryce National Park           101  Nonvascular Plant                                   Abietinella Moss                 NaN\n",
      "3452   Abietinella abietina  Great Smoky Mountains National Park            65  Nonvascular Plant                                   Abietinella Moss                 NaN\n",
      "23678  Abietinella abietina            Yellowstone National Park           243  Nonvascular Plant                                   Abietinella Moss                 NaN\n"
     ]
    }
   ],
   "source": [
    "# Merge the two tables on the 'scientific_name' column\n",
    "df = pd.merge(df_obs, df_species, on='scientific_name')\n",
    "\n",
    "# Sort the merged table by 'scientific_name' then 'park_name'\n",
    "df = df.sort_values(by=['scientific_name', 'park_name'])\n",
    "\n",
    "# Display the first few rows of the merged table\n",
    "pd.set_option('display.width', 1000) # Set a large width to prevent wrapping\n",
    "print(df.head(15))"
   ]
  },
  {
   "cell_type": "markdown",
   "metadata": {},
   "source": [
    "NB. the default merge in pandas is an inner merge, meaning only rows "
   ]
  },
  {
   "cell_type": "code",
   "execution_count": 16,
   "metadata": {},
   "outputs": [
    {
     "name": "stdout",
     "output_type": "stream",
     "text": [
      "scientific_name        object\n",
      "park_name              object\n",
      "observations            int64\n",
      "category               object\n",
      "common_names           object\n",
      "conservation_status    object\n",
      "dtype: object\n"
     ]
    }
   ],
   "source": [
    "# check data types\n",
    "print(df.dtypes)"
   ]
  },
  {
   "cell_type": "code",
   "execution_count": 25,
   "metadata": {},
   "outputs": [
    {
     "name": "stdout",
     "output_type": "stream",
     "text": [
      "<class 'pandas.core.frame.DataFrame'>\n",
      "Index: 25632 entries, 5468 to 17885\n",
      "Data columns (total 6 columns):\n",
      " #   Column               Non-Null Count  Dtype \n",
      "---  ------               --------------  ----- \n",
      " 0   scientific_name      25632 non-null  object\n",
      " 1   park_name            25632 non-null  object\n",
      " 2   observations         25632 non-null  int64 \n",
      " 3   category             25632 non-null  object\n",
      " 4   common_names         25632 non-null  object\n",
      " 5   conservation_status  880 non-null    object\n",
      "dtypes: int64(1), object(5)\n",
      "memory usage: 1.4+ MB\n"
     ]
    }
   ],
   "source": [
    "df.info()"
   ]
  },
  {
   "cell_type": "code",
   "execution_count": 26,
   "metadata": {},
   "outputs": [
    {
     "name": "stdout",
     "output_type": "stream",
     "text": [
      "scientific_name            0\n",
      "park_name                  0\n",
      "observations               0\n",
      "category                   0\n",
      "common_names               0\n",
      "conservation_status    24752\n",
      "dtype: int64\n"
     ]
    }
   ],
   "source": [
    "# check for missing values\n",
    "print(df.isnull().sum())"
   ]
  },
  {
   "cell_type": "code",
   "execution_count": 27,
   "metadata": {},
   "outputs": [
    {
     "name": "stdout",
     "output_type": "stream",
     "text": [
      "[nan 'Species of Concern' 'Threatened' 'Endangered' 'In Recovery']\n"
     ]
    }
   ],
   "source": [
    "# print unique values of conservation_status\n",
    "print(df.conservation_status.unique())"
   ]
  },
  {
   "cell_type": "code",
   "execution_count": null,
   "metadata": {},
   "outputs": [],
   "source": []
  }
 ],
 "metadata": {
  "kernelspec": {
   "display_name": "Python 3",
   "language": "python",
   "name": "python3"
  },
  "language_info": {
   "codemirror_mode": {
    "name": "ipython",
    "version": 3
   },
   "file_extension": ".py",
   "mimetype": "text/x-python",
   "name": "python",
   "nbconvert_exporter": "python",
   "pygments_lexer": "ipython3",
   "version": "3.11.5"
  }
 },
 "nbformat": 4,
 "nbformat_minor": 4
}
