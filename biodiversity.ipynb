{
 "cells": [
  {
   "cell_type": "markdown",
   "metadata": {},
   "source": [
    "# Project Scoping\n",
    "\n",
    "## 1. Project Goals\n",
    "\n",
    "Some initial questions to answer that could be explored:\n",
    "\n",
    "- What is the overall biodiversity across the parks?\n",
    "- Are certain species more concentrated in specific parks?\n",
    "- Are certain categories more endangered than others?\n",
    "- Which parks have the most endangered species?\n",
    "- Which species are most under threat?\n",
    "\n",
    "## 2. Understanding the Dataset\n",
    "\n",
    "There are two csv files: `species_info.csv` and `observations.csv`.\n",
    "- `species_info.csv` columns: Animal category (eg. mammal), scientific name, common name, and conservation status.\n",
    "- `observations.csv` columns: scientific name, park name, and number of observations.\n",
    "\n",
    "**Data Types**: all columns are string objects except for the number of observations which are int64.\n",
    "\n",
    "**Size & Quality**:\n",
    "\n",
    "- `species_info.csv`: 5,824 rows x 4 columns. Missing values: 5,633 (97%), all in the conservation status column.\n",
    "- `observations.csv`: 23,296 rows x 3 columns. Missing values: 0\n",
    "\n",
    "## 3. Key Metrics/Analysis Techniques\n",
    "\n",
    "- Biodiversity Indexes to consider: Simpson’s Diversity Index, or Shannon Index to quantify biodiversity.\n",
    "- Trend Analysis: Identify trends between parks.\n",
    "- Visualization: Plan on using visualizations like bar charts, heatmaps, or maps to make the data easier to interpret.\n",
    "\n",
    "## 4. Tools & Methods\n",
    "\n",
    "Python Libraries: pandas, matplotlib, seaborn, for analysis and visualizations. Plotly for interactive map visualizations.\n",
    "\n",
    "## 5. Deliverables\n",
    "\n",
    "- Jupyter Notebook Report: Clear insights into biodiversity trends, backed by data.\n",
    "- Linkedin Article: A summary of the findings and the importance of biodiversity conservation.\n",
    "- Visualizations: Maps showing species distribution, charts for biodiversity indexes, etc.\n",
    "- Conclusion/Recommendations: Suggest conservation strategies based on the findings."
   ]
  },
  {
   "cell_type": "markdown",
   "metadata": {},
   "source": [
    "---"
   ]
  },
  {
   "cell_type": "markdown",
   "metadata": {},
   "source": [
    "# Boilerplate Structure for the Jupyter Notebook Report:\n",
    "\n",
    "Title Page\n",
    "\n",
    "Project Title: Biodiversity in US National Parks\n",
    "Your Name\n",
    "Date\n",
    "Introduction\n",
    "\n",
    "Brief overview of the project.\n",
    "Define the project goals (e.g., understanding biodiversity distribution, identifying trends, etc.).\n",
    "Dataset Overview\n",
    "\n",
    "Description of the dataset (source, size, variables).\n",
    "Initial observations (any patterns or peculiarities?).\n",
    "Data Cleaning & Preprocessing\n",
    "\n",
    "Missing data handling, outliers, data transformation.\n",
    "Tools and libraries used (e.g., pandas, NumPy).\n",
    "Exploratory Data Analysis (EDA)\n",
    "\n",
    "Visualizations of species diversity, park distributions, etc.\n",
    "Any summary statistics or interesting patterns.\n",
    "Species trends over time (if applicable).\n",
    "Key Metrics & Calculations\n",
    "\n",
    "Biodiversity indexes (e.g., Shannon Index, species richness).\n",
    "Breakdown by park, species group, or region.\n",
    "Insights & Findings\n",
    "\n",
    "Highlight major trends or patterns found during analysis.\n",
    "Discuss regional biodiversity differences, species at risk, etc.\n",
    "Conservation Implications\n",
    "\n",
    "Based on your findings, discuss potential conservation actions.\n",
    "Any policy recommendations?\n",
    "Conclusion\n",
    "\n",
    "Summarize key takeaways.\n",
    "Future work (e.g., further data collection, predictive modeling).\n",
    "Appendix\n",
    "\n",
    "Code snippets, additional graphs, or tables."
   ]
  }
 ],
 "metadata": {
  "kernelspec": {
   "display_name": "Python 3",
   "language": "python",
   "name": "python3"
  },
  "language_info": {
   "codemirror_mode": {
    "name": "ipython",
    "version": 3
   },
   "file_extension": ".py",
   "mimetype": "text/x-python",
   "name": "python",
   "nbconvert_exporter": "python",
   "pygments_lexer": "ipython3",
   "version": "3.11.5"
  }
 },
 "nbformat": 4,
 "nbformat_minor": 4
}
